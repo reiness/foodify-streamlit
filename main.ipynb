{
 "cells": [
  {
   "cell_type": "code",
   "execution_count": 1,
   "metadata": {},
   "outputs": [],
   "source": [
    "from ultralytics import YOLO\n"
   ]
  },
  {
   "cell_type": "code",
   "execution_count": 2,
   "metadata": {},
   "outputs": [],
   "source": [
    "# Load a model\n",
    "model = YOLO('first-model.pt')  "
   ]
  },
  {
   "cell_type": "code",
   "execution_count": 24,
   "metadata": {},
   "outputs": [
    {
     "name": "stdout",
     "output_type": "stream",
     "text": [
      "\n",
      "image 1/1 d:\\coding-project\\foodify-deployment\\fourtest.jpg: 256x256 1 Cabai merah, 1011.6ms\n",
      "Speed: 1.6ms preprocess, 1011.6ms inference, 1.0ms postprocess per image at shape (1, 3, 256, 256)\n"
     ]
    }
   ],
   "source": [
    "# Run batched inference on a list of images\n",
    "result = model.predict('fourtest.jpg', save=False, imgsz=256, conf=0.5)\n"
   ]
  },
  {
   "cell_type": "code",
   "execution_count": 51,
   "metadata": {},
   "outputs": [
    {
     "name": "stdout",
     "output_type": "stream",
     "text": [
      "\n",
      "image 1/1 d:\\coding-project\\foodify-deployment\\cabeh.jpg: 256x256 1 Cabai merah, 1103.5ms\n",
      "Speed: 9.5ms preprocess, 1103.5ms inference, 25.0ms postprocess per image at shape (1, 3, 256, 256)\n",
      "Results saved to \u001b[1mruns\\detect\\predict\u001b[0m\n"
     ]
    }
   ],
   "source": [
    "result = model.predict('cabeh.jpg',stream=True, imgsz=256,save = True) # source already setup\n",
    "names = model.names\n",
    "\n",
    "for r in result:\n",
    "    for c in r.boxes.cls:\n",
    "        hasil = names[int(c)]"
   ]
  }
 ],
 "metadata": {
  "kernelspec": {
   "display_name": "Python 3",
   "language": "python",
   "name": "python3"
  },
  "language_info": {
   "codemirror_mode": {
    "name": "ipython",
    "version": 3
   },
   "file_extension": ".py",
   "mimetype": "text/x-python",
   "name": "python",
   "nbconvert_exporter": "python",
   "pygments_lexer": "ipython3",
   "version": "3.11.4"
  }
 },
 "nbformat": 4,
 "nbformat_minor": 2
}
